{
 "cells": [
  {
   "cell_type": "code",
   "execution_count": 28,
   "metadata": {},
   "outputs": [],
   "source": [
    "import pandas as pd\n",
    "import numpy as np\n",
    "import pylab\n",
    "import scipy.stats as stats\n",
    "from scipy.stats import normaltest\n",
    "from scipy.stats import shapiro\n",
    "import matplotlib.pyplot as plt\n",
    "import matplotlib.style as style\n",
    "style.use('seaborn-poster')\n",
    "style.use('ggplot')\n",
    "from get_historical_prices import HistoricalPrices"
   ]
  },
  {
   "cell_type": "code",
   "execution_count": 2,
   "metadata": {},
   "outputs": [
    {
     "name": "stderr",
     "output_type": "stream",
     "text": [
      "100%|██████████| 965/965 [00:49<00:00, 12.06it/s]\n"
     ]
    }
   ],
   "source": [
    "hp = HistoricalPrices(prices_dir='../prices')\n",
    "hp.get_prices()\n",
    "prices = hp.prices"
   ]
  },
  {
   "cell_type": "code",
   "execution_count": 3,
   "metadata": {},
   "outputs": [
    {
     "data": {
      "text/html": [
       "<div>\n",
       "<style scoped>\n",
       "    .dataframe tbody tr th:only-of-type {\n",
       "        vertical-align: middle;\n",
       "    }\n",
       "\n",
       "    .dataframe tbody tr th {\n",
       "        vertical-align: top;\n",
       "    }\n",
       "\n",
       "    .dataframe thead th {\n",
       "        text-align: right;\n",
       "    }\n",
       "</style>\n",
       "<table border=\"1\" class=\"dataframe\">\n",
       "  <thead>\n",
       "    <tr style=\"text-align: right;\">\n",
       "      <th></th>\n",
       "      <th></th>\n",
       "      <th>high</th>\n",
       "      <th>low</th>\n",
       "      <th>adjclose</th>\n",
       "      <th>volume</th>\n",
       "    </tr>\n",
       "    <tr>\n",
       "      <th>ticker</th>\n",
       "      <th>date</th>\n",
       "      <th></th>\n",
       "      <th></th>\n",
       "      <th></th>\n",
       "      <th></th>\n",
       "    </tr>\n",
       "  </thead>\n",
       "  <tbody>\n",
       "    <tr>\n",
       "      <th rowspan=\"5\" valign=\"top\">CSCO</th>\n",
       "      <th>2012-01-03</th>\n",
       "      <td>18.860001</td>\n",
       "      <td>18.480000</td>\n",
       "      <td>14.852622</td>\n",
       "      <td>41236600.0</td>\n",
       "    </tr>\n",
       "    <tr>\n",
       "      <th>2012-01-04</th>\n",
       "      <td>19.000000</td>\n",
       "      <td>18.350000</td>\n",
       "      <td>15.139630</td>\n",
       "      <td>52927700.0</td>\n",
       "    </tr>\n",
       "    <tr>\n",
       "      <th>2012-01-05</th>\n",
       "      <td>19.000000</td>\n",
       "      <td>18.670000</td>\n",
       "      <td>15.083825</td>\n",
       "      <td>37865300.0</td>\n",
       "    </tr>\n",
       "    <tr>\n",
       "      <th>2012-01-06</th>\n",
       "      <td>19.000000</td>\n",
       "      <td>18.830000</td>\n",
       "      <td>15.028019</td>\n",
       "      <td>27796900.0</td>\n",
       "    </tr>\n",
       "    <tr>\n",
       "      <th>2012-01-09</th>\n",
       "      <td>19.100000</td>\n",
       "      <td>18.790001</td>\n",
       "      <td>15.123683</td>\n",
       "      <td>37811500.0</td>\n",
       "    </tr>\n",
       "  </tbody>\n",
       "</table>\n",
       "</div>"
      ],
      "text/plain": [
       "                        high        low   adjclose      volume\n",
       "ticker date                                                   \n",
       "CSCO   2012-01-03  18.860001  18.480000  14.852622  41236600.0\n",
       "       2012-01-04  19.000000  18.350000  15.139630  52927700.0\n",
       "       2012-01-05  19.000000  18.670000  15.083825  37865300.0\n",
       "       2012-01-06  19.000000  18.830000  15.028019  27796900.0\n",
       "       2012-01-09  19.100000  18.790001  15.123683  37811500.0"
      ]
     },
     "execution_count": 3,
     "metadata": {},
     "output_type": "execute_result"
    }
   ],
   "source": [
    "prices.head()"
   ]
  },
  {
   "cell_type": "code",
   "execution_count": 4,
   "metadata": {},
   "outputs": [
    {
     "name": "stdout",
     "output_type": "stream",
     "text": [
      "(1896, 795)\n"
     ]
    },
    {
     "data": {
      "text/html": [
       "<div>\n",
       "<style scoped>\n",
       "    .dataframe tbody tr th:only-of-type {\n",
       "        vertical-align: middle;\n",
       "    }\n",
       "\n",
       "    .dataframe tbody tr th {\n",
       "        vertical-align: top;\n",
       "    }\n",
       "\n",
       "    .dataframe thead th {\n",
       "        text-align: right;\n",
       "    }\n",
       "</style>\n",
       "<table border=\"1\" class=\"dataframe\">\n",
       "  <thead>\n",
       "    <tr style=\"text-align: right;\">\n",
       "      <th>ticker</th>\n",
       "      <th>A</th>\n",
       "      <th>AA</th>\n",
       "      <th>AAL</th>\n",
       "      <th>AAP</th>\n",
       "      <th>AAPL</th>\n",
       "      <th>ABC</th>\n",
       "      <th>ABMD</th>\n",
       "      <th>ABT</th>\n",
       "      <th>ACC</th>\n",
       "      <th>ACGL</th>\n",
       "      <th>...</th>\n",
       "      <th>XPO</th>\n",
       "      <th>XRAY</th>\n",
       "      <th>XRX</th>\n",
       "      <th>XYL</th>\n",
       "      <th>Y</th>\n",
       "      <th>YUM</th>\n",
       "      <th>ZBRA</th>\n",
       "      <th>ZG</th>\n",
       "      <th>ZION</th>\n",
       "      <th>ZNGA</th>\n",
       "    </tr>\n",
       "    <tr>\n",
       "      <th>date</th>\n",
       "      <th></th>\n",
       "      <th></th>\n",
       "      <th></th>\n",
       "      <th></th>\n",
       "      <th></th>\n",
       "      <th></th>\n",
       "      <th></th>\n",
       "      <th></th>\n",
       "      <th></th>\n",
       "      <th></th>\n",
       "      <th></th>\n",
       "      <th></th>\n",
       "      <th></th>\n",
       "      <th></th>\n",
       "      <th></th>\n",
       "      <th></th>\n",
       "      <th></th>\n",
       "      <th></th>\n",
       "      <th></th>\n",
       "      <th></th>\n",
       "      <th></th>\n",
       "    </tr>\n",
       "  </thead>\n",
       "  <tbody>\n",
       "    <tr>\n",
       "      <th>2012-01-03</th>\n",
       "      <td>24.242914</td>\n",
       "      <td>20.893423</td>\n",
       "      <td>4.877474</td>\n",
       "      <td>68.042702</td>\n",
       "      <td>51.464207</td>\n",
       "      <td>33.846745</td>\n",
       "      <td>18.250000</td>\n",
       "      <td>22.961781</td>\n",
       "      <td>31.544683</td>\n",
       "      <td>12.493333</td>\n",
       "      <td>...</td>\n",
       "      <td>11.84</td>\n",
       "      <td>33.780727</td>\n",
       "      <td>17.453468</td>\n",
       "      <td>22.564072</td>\n",
       "      <td>280.063232</td>\n",
       "      <td>34.874527</td>\n",
       "      <td>35.720001</td>\n",
       "      <td>7.193639</td>\n",
       "      <td>15.602491</td>\n",
       "      <td>9.45</td>\n",
       "    </tr>\n",
       "    <tr>\n",
       "      <th>2012-01-04</th>\n",
       "      <td>24.050198</td>\n",
       "      <td>21.391426</td>\n",
       "      <td>4.791737</td>\n",
       "      <td>69.637924</td>\n",
       "      <td>51.740776</td>\n",
       "      <td>33.962326</td>\n",
       "      <td>18.110001</td>\n",
       "      <td>22.872713</td>\n",
       "      <td>31.221191</td>\n",
       "      <td>12.266666</td>\n",
       "      <td>...</td>\n",
       "      <td>11.72</td>\n",
       "      <td>33.771179</td>\n",
       "      <td>17.347052</td>\n",
       "      <td>23.309027</td>\n",
       "      <td>280.200897</td>\n",
       "      <td>35.112701</td>\n",
       "      <td>35.450001</td>\n",
       "      <td>7.174930</td>\n",
       "      <td>15.946727</td>\n",
       "      <td>9.19</td>\n",
       "    </tr>\n",
       "    <tr>\n",
       "      <th>2012-01-05</th>\n",
       "      <td>24.588482</td>\n",
       "      <td>21.187698</td>\n",
       "      <td>5.210895</td>\n",
       "      <td>70.081047</td>\n",
       "      <td>52.315197</td>\n",
       "      <td>34.220150</td>\n",
       "      <td>18.270000</td>\n",
       "      <td>22.820084</td>\n",
       "      <td>31.439375</td>\n",
       "      <td>12.500000</td>\n",
       "      <td>...</td>\n",
       "      <td>11.73</td>\n",
       "      <td>33.799828</td>\n",
       "      <td>17.240623</td>\n",
       "      <td>22.976940</td>\n",
       "      <td>281.105408</td>\n",
       "      <td>35.380634</td>\n",
       "      <td>35.400002</td>\n",
       "      <td>7.171812</td>\n",
       "      <td>16.393312</td>\n",
       "      <td>8.91</td>\n",
       "    </tr>\n",
       "    <tr>\n",
       "      <th>2012-01-06</th>\n",
       "      <td>24.854307</td>\n",
       "      <td>20.734968</td>\n",
       "      <td>5.334737</td>\n",
       "      <td>70.405983</td>\n",
       "      <td>52.862103</td>\n",
       "      <td>34.309063</td>\n",
       "      <td>18.139999</td>\n",
       "      <td>22.613623</td>\n",
       "      <td>31.311480</td>\n",
       "      <td>12.486667</td>\n",
       "      <td>...</td>\n",
       "      <td>11.83</td>\n",
       "      <td>33.599327</td>\n",
       "      <td>17.240623</td>\n",
       "      <td>22.591002</td>\n",
       "      <td>281.626495</td>\n",
       "      <td>35.636677</td>\n",
       "      <td>35.110001</td>\n",
       "      <td>7.184284</td>\n",
       "      <td>16.411919</td>\n",
       "      <td>8.81</td>\n",
       "    </tr>\n",
       "    <tr>\n",
       "      <th>2012-01-09</th>\n",
       "      <td>25.505566</td>\n",
       "      <td>21.346159</td>\n",
       "      <td>5.449052</td>\n",
       "      <td>70.386292</td>\n",
       "      <td>52.778248</td>\n",
       "      <td>34.291283</td>\n",
       "      <td>18.209999</td>\n",
       "      <td>22.609575</td>\n",
       "      <td>31.176056</td>\n",
       "      <td>12.396667</td>\n",
       "      <td>...</td>\n",
       "      <td>11.70</td>\n",
       "      <td>33.437008</td>\n",
       "      <td>17.219339</td>\n",
       "      <td>22.680748</td>\n",
       "      <td>280.151733</td>\n",
       "      <td>35.499722</td>\n",
       "      <td>34.950001</td>\n",
       "      <td>7.181166</td>\n",
       "      <td>16.635208</td>\n",
       "      <td>8.00</td>\n",
       "    </tr>\n",
       "  </tbody>\n",
       "</table>\n",
       "<p>5 rows × 795 columns</p>\n",
       "</div>"
      ],
      "text/plain": [
       "ticker              A         AA       AAL        AAP       AAPL        ABC  \\\n",
       "date                                                                          \n",
       "2012-01-03  24.242914  20.893423  4.877474  68.042702  51.464207  33.846745   \n",
       "2012-01-04  24.050198  21.391426  4.791737  69.637924  51.740776  33.962326   \n",
       "2012-01-05  24.588482  21.187698  5.210895  70.081047  52.315197  34.220150   \n",
       "2012-01-06  24.854307  20.734968  5.334737  70.405983  52.862103  34.309063   \n",
       "2012-01-09  25.505566  21.346159  5.449052  70.386292  52.778248  34.291283   \n",
       "\n",
       "ticker           ABMD        ABT        ACC       ACGL  ...    XPO       XRAY  \\\n",
       "date                                                    ...                     \n",
       "2012-01-03  18.250000  22.961781  31.544683  12.493333  ...  11.84  33.780727   \n",
       "2012-01-04  18.110001  22.872713  31.221191  12.266666  ...  11.72  33.771179   \n",
       "2012-01-05  18.270000  22.820084  31.439375  12.500000  ...  11.73  33.799828   \n",
       "2012-01-06  18.139999  22.613623  31.311480  12.486667  ...  11.83  33.599327   \n",
       "2012-01-09  18.209999  22.609575  31.176056  12.396667  ...  11.70  33.437008   \n",
       "\n",
       "ticker            XRX        XYL           Y        YUM       ZBRA        ZG  \\\n",
       "date                                                                           \n",
       "2012-01-03  17.453468  22.564072  280.063232  34.874527  35.720001  7.193639   \n",
       "2012-01-04  17.347052  23.309027  280.200897  35.112701  35.450001  7.174930   \n",
       "2012-01-05  17.240623  22.976940  281.105408  35.380634  35.400002  7.171812   \n",
       "2012-01-06  17.240623  22.591002  281.626495  35.636677  35.110001  7.184284   \n",
       "2012-01-09  17.219339  22.680748  280.151733  35.499722  34.950001  7.181166   \n",
       "\n",
       "ticker           ZION  ZNGA  \n",
       "date                         \n",
       "2012-01-03  15.602491  9.45  \n",
       "2012-01-04  15.946727  9.19  \n",
       "2012-01-05  16.393312  8.91  \n",
       "2012-01-06  16.411919  8.81  \n",
       "2012-01-09  16.635208  8.00  \n",
       "\n",
       "[5 rows x 795 columns]"
      ]
     },
     "execution_count": 4,
     "metadata": {},
     "output_type": "execute_result"
    }
   ],
   "source": [
    "pivoted_prices = prices.reset_index(level=0).pivot(columns='ticker', values='adjclose').dropna(axis=1)\n",
    "print(pivoted_prices.shape)\n",
    "pivoted_prices.head()"
   ]
  },
  {
   "cell_type": "code",
   "execution_count": 5,
   "metadata": {},
   "outputs": [
    {
     "name": "stdout",
     "output_type": "stream",
     "text": [
      "(1895, 795)\n"
     ]
    },
    {
     "data": {
      "text/html": [
       "<div>\n",
       "<style scoped>\n",
       "    .dataframe tbody tr th:only-of-type {\n",
       "        vertical-align: middle;\n",
       "    }\n",
       "\n",
       "    .dataframe tbody tr th {\n",
       "        vertical-align: top;\n",
       "    }\n",
       "\n",
       "    .dataframe thead th {\n",
       "        text-align: right;\n",
       "    }\n",
       "</style>\n",
       "<table border=\"1\" class=\"dataframe\">\n",
       "  <thead>\n",
       "    <tr style=\"text-align: right;\">\n",
       "      <th>ticker</th>\n",
       "      <th>A</th>\n",
       "      <th>AA</th>\n",
       "      <th>AAL</th>\n",
       "      <th>AAP</th>\n",
       "      <th>AAPL</th>\n",
       "      <th>ABC</th>\n",
       "      <th>ABMD</th>\n",
       "      <th>ABT</th>\n",
       "      <th>ACC</th>\n",
       "      <th>ACGL</th>\n",
       "      <th>...</th>\n",
       "      <th>XPO</th>\n",
       "      <th>XRAY</th>\n",
       "      <th>XRX</th>\n",
       "      <th>XYL</th>\n",
       "      <th>Y</th>\n",
       "      <th>YUM</th>\n",
       "      <th>ZBRA</th>\n",
       "      <th>ZG</th>\n",
       "      <th>ZION</th>\n",
       "      <th>ZNGA</th>\n",
       "    </tr>\n",
       "    <tr>\n",
       "      <th>date</th>\n",
       "      <th></th>\n",
       "      <th></th>\n",
       "      <th></th>\n",
       "      <th></th>\n",
       "      <th></th>\n",
       "      <th></th>\n",
       "      <th></th>\n",
       "      <th></th>\n",
       "      <th></th>\n",
       "      <th></th>\n",
       "      <th></th>\n",
       "      <th></th>\n",
       "      <th></th>\n",
       "      <th></th>\n",
       "      <th></th>\n",
       "      <th></th>\n",
       "      <th></th>\n",
       "      <th></th>\n",
       "      <th></th>\n",
       "      <th></th>\n",
       "      <th></th>\n",
       "    </tr>\n",
       "  </thead>\n",
       "  <tbody>\n",
       "    <tr>\n",
       "      <th>2012-01-04</th>\n",
       "      <td>-0.007949</td>\n",
       "      <td>0.023835</td>\n",
       "      <td>-0.017578</td>\n",
       "      <td>0.023444</td>\n",
       "      <td>0.005374</td>\n",
       "      <td>0.003415</td>\n",
       "      <td>-0.007671</td>\n",
       "      <td>-0.003879</td>\n",
       "      <td>-0.010255</td>\n",
       "      <td>-0.018143</td>\n",
       "      <td>...</td>\n",
       "      <td>-0.010135</td>\n",
       "      <td>-0.000283</td>\n",
       "      <td>-0.006097</td>\n",
       "      <td>0.033015</td>\n",
       "      <td>0.000492</td>\n",
       "      <td>0.006829</td>\n",
       "      <td>-0.007559</td>\n",
       "      <td>-0.002601</td>\n",
       "      <td>0.022063</td>\n",
       "      <td>-0.027513</td>\n",
       "    </tr>\n",
       "    <tr>\n",
       "      <th>2012-01-05</th>\n",
       "      <td>0.022382</td>\n",
       "      <td>-0.009524</td>\n",
       "      <td>0.087475</td>\n",
       "      <td>0.006363</td>\n",
       "      <td>0.011102</td>\n",
       "      <td>0.007591</td>\n",
       "      <td>0.008835</td>\n",
       "      <td>-0.002301</td>\n",
       "      <td>0.006988</td>\n",
       "      <td>0.019022</td>\n",
       "      <td>...</td>\n",
       "      <td>0.000853</td>\n",
       "      <td>0.000848</td>\n",
       "      <td>-0.006135</td>\n",
       "      <td>-0.014247</td>\n",
       "      <td>0.003228</td>\n",
       "      <td>0.007631</td>\n",
       "      <td>-0.001410</td>\n",
       "      <td>-0.000435</td>\n",
       "      <td>0.028005</td>\n",
       "      <td>-0.030468</td>\n",
       "    </tr>\n",
       "    <tr>\n",
       "      <th>2012-01-06</th>\n",
       "      <td>0.010811</td>\n",
       "      <td>-0.021368</td>\n",
       "      <td>0.023766</td>\n",
       "      <td>0.004637</td>\n",
       "      <td>0.010454</td>\n",
       "      <td>0.002598</td>\n",
       "      <td>-0.007116</td>\n",
       "      <td>-0.009047</td>\n",
       "      <td>-0.004068</td>\n",
       "      <td>-0.001067</td>\n",
       "      <td>...</td>\n",
       "      <td>0.008525</td>\n",
       "      <td>-0.005932</td>\n",
       "      <td>0.000000</td>\n",
       "      <td>-0.016797</td>\n",
       "      <td>0.001854</td>\n",
       "      <td>0.007237</td>\n",
       "      <td>-0.008192</td>\n",
       "      <td>0.001739</td>\n",
       "      <td>0.001135</td>\n",
       "      <td>-0.011223</td>\n",
       "    </tr>\n",
       "    <tr>\n",
       "      <th>2012-01-09</th>\n",
       "      <td>0.026203</td>\n",
       "      <td>0.029476</td>\n",
       "      <td>0.021429</td>\n",
       "      <td>-0.000280</td>\n",
       "      <td>-0.001586</td>\n",
       "      <td>-0.000518</td>\n",
       "      <td>0.003859</td>\n",
       "      <td>-0.000179</td>\n",
       "      <td>-0.004325</td>\n",
       "      <td>-0.007208</td>\n",
       "      <td>...</td>\n",
       "      <td>-0.010989</td>\n",
       "      <td>-0.004831</td>\n",
       "      <td>-0.001235</td>\n",
       "      <td>0.003973</td>\n",
       "      <td>-0.005237</td>\n",
       "      <td>-0.003843</td>\n",
       "      <td>-0.004557</td>\n",
       "      <td>-0.000434</td>\n",
       "      <td>0.013605</td>\n",
       "      <td>-0.091941</td>\n",
       "    </tr>\n",
       "    <tr>\n",
       "      <th>2012-01-10</th>\n",
       "      <td>0.018760</td>\n",
       "      <td>0.001060</td>\n",
       "      <td>0.000000</td>\n",
       "      <td>0.000840</td>\n",
       "      <td>0.003580</td>\n",
       "      <td>0.011408</td>\n",
       "      <td>-0.002746</td>\n",
       "      <td>0.004655</td>\n",
       "      <td>0.013514</td>\n",
       "      <td>0.006453</td>\n",
       "      <td>...</td>\n",
       "      <td>0.005983</td>\n",
       "      <td>0.014277</td>\n",
       "      <td>0.002472</td>\n",
       "      <td>0.012268</td>\n",
       "      <td>0.003685</td>\n",
       "      <td>0.006206</td>\n",
       "      <td>0.009156</td>\n",
       "      <td>0.079027</td>\n",
       "      <td>0.016220</td>\n",
       "      <td>0.066250</td>\n",
       "    </tr>\n",
       "  </tbody>\n",
       "</table>\n",
       "<p>5 rows × 795 columns</p>\n",
       "</div>"
      ],
      "text/plain": [
       "ticker             A        AA       AAL       AAP      AAPL       ABC  \\\n",
       "date                                                                     \n",
       "2012-01-04 -0.007949  0.023835 -0.017578  0.023444  0.005374  0.003415   \n",
       "2012-01-05  0.022382 -0.009524  0.087475  0.006363  0.011102  0.007591   \n",
       "2012-01-06  0.010811 -0.021368  0.023766  0.004637  0.010454  0.002598   \n",
       "2012-01-09  0.026203  0.029476  0.021429 -0.000280 -0.001586 -0.000518   \n",
       "2012-01-10  0.018760  0.001060  0.000000  0.000840  0.003580  0.011408   \n",
       "\n",
       "ticker          ABMD       ABT       ACC      ACGL  ...       XPO      XRAY  \\\n",
       "date                                                ...                       \n",
       "2012-01-04 -0.007671 -0.003879 -0.010255 -0.018143  ... -0.010135 -0.000283   \n",
       "2012-01-05  0.008835 -0.002301  0.006988  0.019022  ...  0.000853  0.000848   \n",
       "2012-01-06 -0.007116 -0.009047 -0.004068 -0.001067  ...  0.008525 -0.005932   \n",
       "2012-01-09  0.003859 -0.000179 -0.004325 -0.007208  ... -0.010989 -0.004831   \n",
       "2012-01-10 -0.002746  0.004655  0.013514  0.006453  ...  0.005983  0.014277   \n",
       "\n",
       "ticker           XRX       XYL         Y       YUM      ZBRA        ZG  \\\n",
       "date                                                                     \n",
       "2012-01-04 -0.006097  0.033015  0.000492  0.006829 -0.007559 -0.002601   \n",
       "2012-01-05 -0.006135 -0.014247  0.003228  0.007631 -0.001410 -0.000435   \n",
       "2012-01-06  0.000000 -0.016797  0.001854  0.007237 -0.008192  0.001739   \n",
       "2012-01-09 -0.001235  0.003973 -0.005237 -0.003843 -0.004557 -0.000434   \n",
       "2012-01-10  0.002472  0.012268  0.003685  0.006206  0.009156  0.079027   \n",
       "\n",
       "ticker          ZION      ZNGA  \n",
       "date                            \n",
       "2012-01-04  0.022063 -0.027513  \n",
       "2012-01-05  0.028005 -0.030468  \n",
       "2012-01-06  0.001135 -0.011223  \n",
       "2012-01-09  0.013605 -0.091941  \n",
       "2012-01-10  0.016220  0.066250  \n",
       "\n",
       "[5 rows x 795 columns]"
      ]
     },
     "execution_count": 5,
     "metadata": {},
     "output_type": "execute_result"
    }
   ],
   "source": [
    "returns = pivoted_prices.pct_change().drop(pivoted_prices.index[:1])\n",
    "print(returns.shape)\n",
    "returns.head()"
   ]
  },
  {
   "cell_type": "code",
   "execution_count": 53,
   "metadata": {},
   "outputs": [
    {
     "data": {
      "image/png": "[encoded data removed]",
      "text/plain": [
       "<matplotlib.figure.Figure at 0x127c11898>"
      ]
     },
     "metadata": {},
     "output_type": "display_data"
    },
    {
     "data": {
      "text/plain": [
       "1"
      ]
     },
     "execution_count": 53,
     "metadata": {},
     "output_type": "execute_result"
    }
   ],
   "source": [
    "# for kicks, using normaltest() to find any possible outliers\n",
    "counter = 0\n",
    "for i, col in enumerate(returns.columns):\n",
    "    data_ = returns[col].values\n",
    "    t, p = normaltest(data_)\n",
    "    if p < 10e-322:\n",
    "        counter += 1\n",
    "        stats.probplot(data_, dist='norm', plot=pylab)\n",
    "        pylab.title('QQ plot for ticker: {}, p-value={}'.format(col, p))\n",
    "        pylab.show()\n",
    "        break\n",
    "        \n",
    "counter"
   ]
  },
  {
   "cell_type": "code",
   "execution_count": 63,
   "metadata": {},
   "outputs": [],
   "source": [
    "bgcp = returns[['BGCP']].loc[returns['BGCP'] > 0.45]\n",
    "pivoted_prices.loc['2013-03-29':'2013-04-09','BGCP']\n",
    "returns.loc['2013-03-29':'2013-04-09','BGCP']\n",
    "returns.drop('BGCP', axis=1, inplace=True)"
   ]
  },
  {
   "cell_type": "code",
   "execution_count": 64,
   "metadata": {},
   "outputs": [
    {
     "data": {
      "text/plain": [
       "794"
      ]
     },
     "execution_count": 64,
     "metadata": {},
     "output_type": "execute_result"
    }
   ],
   "source": [
    "len(returns.columns)"
   ]
  },
  {
   "cell_type": "markdown",
   "metadata": {},
   "source": [
    "## Let's look at a two stock portfolio"
   ]
  },
  {
   "cell_type": "code",
   "execution_count": 65,
   "metadata": {},
   "outputs": [
    {
     "data": {
      "text/html": [
       "<div>\n",
       "<style scoped>\n",
       "    .dataframe tbody tr th:only-of-type {\n",
       "        vertical-align: middle;\n",
       "    }\n",
       "\n",
       "    .dataframe tbody tr th {\n",
       "        vertical-align: top;\n",
       "    }\n",
       "\n",
       "    .dataframe thead th {\n",
       "        text-align: right;\n",
       "    }\n",
       "</style>\n",
       "<table border=\"1\" class=\"dataframe\">\n",
       "  <thead>\n",
       "    <tr style=\"text-align: right;\">\n",
       "      <th></th>\n",
       "      <th>A</th>\n",
       "      <th>AA</th>\n",
       "    </tr>\n",
       "    <tr>\n",
       "      <th>date</th>\n",
       "      <th></th>\n",
       "      <th></th>\n",
       "    </tr>\n",
       "  </thead>\n",
       "  <tbody>\n",
       "    <tr>\n",
       "      <th>2012-01-04</th>\n",
       "      <td>-0.007949</td>\n",
       "      <td>0.023835</td>\n",
       "    </tr>\n",
       "    <tr>\n",
       "      <th>2012-01-05</th>\n",
       "      <td>0.022382</td>\n",
       "      <td>-0.009524</td>\n",
       "    </tr>\n",
       "    <tr>\n",
       "      <th>2012-01-06</th>\n",
       "      <td>0.010811</td>\n",
       "      <td>-0.021368</td>\n",
       "    </tr>\n",
       "    <tr>\n",
       "      <th>2012-01-09</th>\n",
       "      <td>0.026203</td>\n",
       "      <td>0.029476</td>\n",
       "    </tr>\n",
       "    <tr>\n",
       "      <th>2012-01-10</th>\n",
       "      <td>0.018760</td>\n",
       "      <td>0.001060</td>\n",
       "    </tr>\n",
       "  </tbody>\n",
       "</table>\n",
       "</div>"
      ],
      "text/plain": [
       "                   A        AA\n",
       "date                          \n",
       "2012-01-04 -0.007949  0.023835\n",
       "2012-01-05  0.022382 -0.009524\n",
       "2012-01-06  0.010811 -0.021368\n",
       "2012-01-09  0.026203  0.029476\n",
       "2012-01-10  0.018760  0.001060"
      ]
     },
     "execution_count": 65,
     "metadata": {},
     "output_type": "execute_result"
    }
   ],
   "source": [
    "tick0 = returns.columns[0]\n",
    "tick1 = returns.columns[1]\n",
    "asset_returns_1 = returns[tick0]\n",
    "asset_returns_2 = returns[tick1]\n",
    "asset_returns = pd.concat([asset_returns_1, asset_returns_2], axis=1)\n",
    "asset_returns.head()"
   ]
  },
  {
   "cell_type": "markdown",
   "metadata": {},
   "source": [
    "## Factor Returns"
   ]
  },
  {
   "cell_type": "code",
   "execution_count": 66,
   "metadata": {},
   "outputs": [
    {
     "data": {
      "text/html": [
       "<div>\n",
       "<style scoped>\n",
       "    .dataframe tbody tr th:only-of-type {\n",
       "        vertical-align: middle;\n",
       "    }\n",
       "\n",
       "    .dataframe tbody tr th {\n",
       "        vertical-align: top;\n",
       "    }\n",
       "\n",
       "    .dataframe thead th {\n",
       "        text-align: right;\n",
       "    }\n",
       "</style>\n",
       "<table border=\"1\" class=\"dataframe\">\n",
       "  <thead>\n",
       "    <tr style=\"text-align: right;\">\n",
       "      <th></th>\n",
       "      <th>factor_return_1</th>\n",
       "      <th>factor_return_2</th>\n",
       "    </tr>\n",
       "    <tr>\n",
       "      <th>date</th>\n",
       "      <th></th>\n",
       "      <th></th>\n",
       "    </tr>\n",
       "  </thead>\n",
       "  <tbody>\n",
       "    <tr>\n",
       "      <th>2012-01-04</th>\n",
       "      <td>-0.001606</td>\n",
       "      <td>-0.001819</td>\n",
       "    </tr>\n",
       "    <tr>\n",
       "      <th>2012-01-05</th>\n",
       "      <td>0.006749</td>\n",
       "      <td>0.005265</td>\n",
       "    </tr>\n",
       "    <tr>\n",
       "      <th>2012-01-06</th>\n",
       "      <td>-0.000627</td>\n",
       "      <td>-0.001441</td>\n",
       "    </tr>\n",
       "    <tr>\n",
       "      <th>2012-01-09</th>\n",
       "      <td>0.004123</td>\n",
       "      <td>0.003276</td>\n",
       "    </tr>\n",
       "    <tr>\n",
       "      <th>2012-01-10</th>\n",
       "      <td>0.014514</td>\n",
       "      <td>0.012434</td>\n",
       "    </tr>\n",
       "  </tbody>\n",
       "</table>\n",
       "</div>"
      ],
      "text/plain": [
       "            factor_return_1  factor_return_2\n",
       "date                                        \n",
       "2012-01-04        -0.001606        -0.001819\n",
       "2012-01-05         0.006749         0.005265\n",
       "2012-01-06        -0.000627        -0.001441\n",
       "2012-01-09         0.004123         0.003276\n",
       "2012-01-10         0.014514         0.012434"
      ]
     },
     "execution_count": 66,
     "metadata": {},
     "output_type": "execute_result"
    }
   ],
   "source": [
    "factor_return_1 = returns.mean(axis=1)\n",
    "factor_return_2 = returns.median(axis=1)\n",
    "factor_returns = pd.DataFrame(data={'factor_return_1': factor_return_1, 'factor_return_2': factor_return_2})\n",
    "factor_returns.head()"
   ]
  },
  {
   "cell_type": "markdown",
   "metadata": {},
   "source": [
    "## Factor Exposures"
   ]
  },
  {
   "cell_type": "code",
   "execution_count": 67,
   "metadata": {},
   "outputs": [],
   "source": [
    "from sklearn.linear_model import LinearRegression\n",
    "def get_factor_loadings(factor_returns_df, asset_returns):\n",
    "    lr = LinearRegression()\n",
    "    lr.fit(factor_returns_df, asset_returns)\n",
    "    return lr.coef_"
   ]
  },
  {
   "cell_type": "code",
   "execution_count": 71,
   "metadata": {},
   "outputs": [
    {
     "name": "stdout",
     "output_type": "stream",
     "text": [
      "factor_exposures for asset 1 [-0.01782643  1.28086549]\n",
      "factor_exposures for asset 2 [0.07938985 1.36951805]\n"
     ]
    }
   ],
   "source": [
    "factor_loadings_asset_1 = get_factor_loadings(factor_returns, asset_returns_1)\n",
    "factor_loadings_asset_2 = get_factor_loadings(factor_returns, asset_returns_2)\n",
    "print(f\"factor_exposures for asset 1 {factor_loadings_asset_1}\")\n",
    "print(f\"factor_exposures for asset 2 {factor_loadings_asset_2}\")"
   ]
  },
  {
   "cell_type": "markdown",
   "metadata": {},
   "source": [
    "## Variance of stock 1\n",
    "\n",
    "Calculate the variance of stock 1.  \n",
    "$\\textrm{Var}(r_{1}) = \\beta_{1,1}^2 \\textrm{Var}(f_{1}) + \\beta_{1,2}^2 \\textrm{Var}(f_{2}) + 2\\beta_{1,1}\\beta_{1,2}\\textrm{Cov}(f_{1},f_{2}) + \\textrm{Var}(s_{1})$"
   ]
  },
  {
   "cell_type": "code",
   "execution_count": 75,
   "metadata": {},
   "outputs": [
    {
     "name": "stdout",
     "output_type": "stream",
     "text": [
      "(1895,)\n"
     ]
    },
    {
     "data": {
      "text/plain": [
       "date\n",
       "2012-01-04   -0.005648\n",
       "2012-01-05    0.015758\n",
       "2012-01-06    0.012646\n",
       "2012-01-09    0.022080\n",
       "2012-01-10    0.003093\n",
       "dtype: float64"
      ]
     },
     "execution_count": 75,
     "metadata": {},
     "output_type": "execute_result"
    }
   ],
   "source": [
    "factor_exposure_1_1 = factor_loadings_asset_1[0]\n",
    "factor_exposure_1_2 = factor_loadings_asset_1[1]\n",
    "common_return = factor_exposure_1_1 * factor_return_1 + factor_exposure_1_2 * factor_return_2\n",
    "specific_return = asset_returns_1 - common_return\n",
    "print(specific_return.shape)\n",
    "specific_return.head()"
   ]
  },
  {
   "cell_type": "code",
   "execution_count": 79,
   "metadata": {},
   "outputs": [
    {
     "name": "stdout",
     "output_type": "stream",
     "text": [
      "[[1.14517448e-04 6.76270539e-05]\n",
      " [6.76270539e-05 6.54064994e-05]]\n",
      "variance of asset 1: 0.00022406\n",
      "variance of asset 1: 0.00022406\n"
     ]
    }
   ],
   "source": [
    "factor_cov_matrix = np.cov(factor_return_1, factor_return_2, ddof=1)\n",
    "print(factor_cov_matrix)\n",
    "factor_1_var = factor_cov_matrix[0,0]\n",
    "factor_2_var = factor_cov_matrix[1,1]\n",
    "factor_cov = factor_cov_matrix[0,1]\n",
    "\n",
    "var_s_1 = np.var(specific_return, ddof=1)\n",
    "\n",
    "var_asset_1 = (factor_exposure_1_1**2 * factor_1_var) + (factor_exposure_1_2**2 * factor_2_var) + \\\n",
    "              (2 * factor_exposure_1_1 * factor_exposure_1_2 * factor_cov) + var_s_1\n",
    "\n",
    "\n",
    "historical_var = np.var(asset_returns_1, ddof=1)\n",
    "print(f\"variance of asset 1: {var_asset_1:.8f}\")\n",
    "print(f\"variance of asset 1: {historical_var:.8f}\")"
   ]
  },
  {
   "cell_type": "markdown",
   "metadata": {},
   "source": [
    "## Variance of stock 2\n",
    "Calculate the variance of stock 2.  \n",
    "$\\textrm{Var}(r_{2}) = \\beta_{2,1}^2 \\textrm{Var}(f_{1}) + \\beta_{2,2}^2 \\textrm{Var}(f_{2}) + 2\\beta_{2,1}\\beta_{2,2}\\textrm{Cov}(f_{1},f_{2}) + \\textrm{Var}(s_{2})$"
   ]
  },
  {
   "cell_type": "code",
   "execution_count": 80,
   "metadata": {},
   "outputs": [
    {
     "name": "stdout",
     "output_type": "stream",
     "text": [
      "(1895,)\n"
     ]
    },
    {
     "data": {
      "text/plain": [
       "date\n",
       "2012-01-04   -0.005648\n",
       "2012-01-05    0.015758\n",
       "2012-01-06    0.012646\n",
       "2012-01-09    0.022080\n",
       "2012-01-10    0.003093\n",
       "dtype: float64"
      ]
     },
     "execution_count": 80,
     "metadata": {},
     "output_type": "execute_result"
    }
   ],
   "source": [
    "factor_exposure_2_1 = factor_loadings_asset_2[0]\n",
    "factor_exposure_2_2 = factor_loadings_asset_2[1]\n",
    "common_return = factor_exposure_2_1 * factor_return_1 + factor_exposure_2_2 * factor_return_2\n",
    "specific_return_2 = asset_returns_2 - common_return\n",
    "print(specific_return_2.shape)\n",
    "specific_return.head()"
   ]
  },
  {
   "cell_type": "code",
   "execution_count": 81,
   "metadata": {},
   "outputs": [
    {
     "name": "stdout",
     "output_type": "stream",
     "text": [
      "variance of asset 1: 0.00052989\n",
      "variance of asset 1: 0.00052989\n"
     ]
    }
   ],
   "source": [
    "var_s_2 = np.var(specific_return_2, ddof=1)\n",
    "\n",
    "var_asset_2 = (factor_exposure_2_1**2 * factor_1_var) + (factor_exposure_2_2**2 * factor_2_var) + \\\n",
    "              (2 * factor_exposure_2_1 * factor_exposure_2_2 * factor_cov) + var_s_2\n",
    "\n",
    "\n",
    "historical_var = np.var(asset_returns_2, ddof=1)\n",
    "print(f\"variance of asset 1: {var_asset_2:.8f}\")\n",
    "print(f\"variance of asset 1: {historical_var:.8f}\")"
   ]
  },
  {
   "cell_type": "markdown",
   "metadata": {},
   "source": [
    "## Covariance of stocks 1 and 2 with factors compared to historical\n",
    "Calculate the covariance of stock 1 and 2 with factors.  \n",
    "$\\textrm{Cov}(r_{1},r_{2}) = \\beta_{1,1}\\beta_{2,1}\\textrm{Var}(f_{1}) + \\beta_{1,1}\\beta_{2,2}\\textrm{Cov}(f_{1},f_{2}) + \\beta_{1,2}\\beta_{2,1}\\textrm{Cov}(f_{1},f_{2}) + \\beta_{1,2}\\beta_{2,2}\\textrm{Var}(f_{2})$"
   ]
  },
  {
   "cell_type": "code",
   "execution_count": 88,
   "metadata": {},
   "outputs": [
    {
     "name": "stdout",
     "output_type": "stream",
     "text": [
      "[[0.00022406 0.00012733]\n",
      " [0.00012733 0.00052989]]\n",
      "covariance of assets 1 and 2: 0.00011980\n",
      "histor cov of assets 1 and 2: 0.00012733\n"
     ]
    }
   ],
   "source": [
    "cov_asset_1_2 = (factor_exposure_1_1 * factor_exposure_2_1 * factor_1_var) + \\\n",
    "            (factor_exposure_1_1 * factor_exposure_2_2 * factor_cov) + \\\n",
    "            (factor_exposure_1_2 * factor_exposure_2_1 * factor_cov) + \\\n",
    "            (factor_exposure_1_2 * factor_exposure_2_2 * factor_2_var)\n",
    "hist_cov = np.cov(asset_returns_1, asset_returns_2, ddof=1)\n",
    "print(hist_cov)\n",
    "print(f\"covariance of assets 1 and 2: {cov_asset_1_2:.8f}\")\n",
    "print(f\"histor cov of assets 1 and 2: {hist_cov[0,1]:.8f}\")"
   ]
  },
  {
   "cell_type": "markdown",
   "metadata": {},
   "source": [
    "## Calculate portfolio variance\n",
    "\n",
    "\n",
    "$\\textrm{Var}(r_p) = x_{1}^{2} \\textrm{Var}(r_1) + x_{2}^{2} \\textrm{Var}(r_2) + 2x_{1}x_{2}\\textrm{Cov}(r_{1},r_{2})$ "
   ]
  },
  {
   "cell_type": "code",
   "execution_count": 93,
   "metadata": {},
   "outputs": [
    {
     "name": "stdout",
     "output_type": "stream",
     "text": [
      "variance of portfolio is 0.00022295\n"
     ]
    }
   ],
   "source": [
    "weight_1 = 0.60\n",
    "weight_2 = 0.40\n",
    "\n",
    "var_portfolio = weight_1**2 * var_asset_1 + weight_2**2 * var_asset_2 + 2 * weight_1 * weight_2 * cov_asset_1_2\n",
    "print(f\"variance of portfolio is {var_portfolio:.8f}\")"
   ]
  },
  {
   "cell_type": "markdown",
   "metadata": {},
   "source": [
    "## Using matrices\n",
    "\n",
    "Create matrices $\\mathbf{F}$, $\\mathbf{B}$ and $\\mathbf{S}$, where  \n",
    "$\\mathbf{F}= \\begin{pmatrix}\n",
    "\\textrm{Var}(f_1) & \\textrm{Cov}(f_1,f_2) \\\\ \n",
    "\\textrm{Cov}(f_2,f_1) & \\textrm{Var}(f_2) \n",
    "\\end{pmatrix}$\n",
    "is the covariance matrix of factors,  \n",
    "\n",
    "$\\mathbf{B} = \\begin{pmatrix}\n",
    "\\beta_{1,1}, \\beta_{1,2}\\\\ \n",
    "\\beta_{2,1}, \\beta_{2,2}\n",
    "\\end{pmatrix}$ \n",
    "is the matrix of factor exposures, and  \n",
    "\n",
    "$\\mathbf{S} = \\begin{pmatrix}\n",
    "\\textrm{Var}(s_i) & 0\\\\ \n",
    "0 & \\textrm{Var}(s_j)\n",
    "\\end{pmatrix}$\n",
    "is the matrix of specific variances.  \n",
    "\n",
    "$\\mathbf{X} = \\begin{pmatrix}\n",
    "x_{1} \\\\\n",
    "x_{2}\n",
    "\\end{pmatrix}$"
   ]
  },
  {
   "cell_type": "markdown",
   "metadata": {},
   "source": [
    "Since the portfolio variance is 1 by 1 (it's a scalar), we want the matrix multiplications to create a 1 by 1 output as well.  This means we should put the row vector  \n",
    "$\\mathbf{X}^T = \\begin{pmatrix}\n",
    "x_{i} &  x_{j}\n",
    "\\end{pmatrix}$  \n",
    "On the left, and put the column vector  \n",
    "$\\mathbf{X} = \\begin{pmatrix}\n",
    "x_{i}\\\\ \n",
    "x_{j}\n",
    "\\end{pmatrix}$  \n",
    "On the right.\n",
    "\n",
    "So we should use:\n",
    "\n",
    "$\\mathbf{X}^T(\\mathbf{BFB}^T + \\mathbf{S})\\mathbf{X}$"
   ]
  },
  {
   "cell_type": "code",
   "execution_count": 94,
   "metadata": {},
   "outputs": [
    {
     "data": {
      "text/plain": [
       "array([[1.14517448e-04, 6.76270539e-05],\n",
       "       [6.76270539e-05, 6.54064994e-05]])"
      ]
     },
     "execution_count": 94,
     "metadata": {},
     "output_type": "execute_result"
    }
   ],
   "source": [
    "F = factor_cov_matrix\n",
    "F"
   ]
  },
  {
   "cell_type": "code",
   "execution_count": 95,
   "metadata": {},
   "outputs": [
    {
     "data": {
      "text/plain": [
       "array([[-0.01782643,  1.28086549],\n",
       "       [ 0.07938985,  1.36951805]])"
      ]
     },
     "execution_count": 95,
     "metadata": {},
     "output_type": "execute_result"
    }
   ],
   "source": [
    "B = np.array([factor_loadings_asset_1, factor_loadings_asset_2])\n",
    "B"
   ]
  },
  {
   "cell_type": "code",
   "execution_count": 96,
   "metadata": {},
   "outputs": [
    {
     "data": {
      "text/plain": [
       "array([[0.0001198 , 0.        ],\n",
       "       [0.        , 0.00039179]])"
      ]
     },
     "execution_count": 96,
     "metadata": {},
     "output_type": "execute_result"
    }
   ],
   "source": [
    "S = np.diag([var_s_1, var_s_2])\n",
    "S"
   ]
  },
  {
   "cell_type": "code",
   "execution_count": 98,
   "metadata": {},
   "outputs": [
    {
     "data": {
      "text/plain": [
       "array([[0.6],\n",
       "       [0.4]])"
      ]
     },
     "execution_count": 98,
     "metadata": {},
     "output_type": "execute_result"
    }
   ],
   "source": [
    "X = np.array([[weight_1], [weight_2]])\n",
    "X"
   ]
  },
  {
   "cell_type": "code",
   "execution_count": 102,
   "metadata": {},
   "outputs": [
    {
     "name": "stdout",
     "output_type": "stream",
     "text": [
      "portfolio variance is \n",
      "0.00022295\n"
     ]
    }
   ],
   "source": [
    "mat_var_portfolio = X.T.dot(B.dot(F).dot(B.T)+S).dot(X)\n",
    "print(f\"portfolio variance is \\n{var_portfolio:.8f}\")"
   ]
  },
  {
   "cell_type": "code",
   "execution_count": null,
   "metadata": {},
   "outputs": [],
   "source": []
  }
 ],
 "metadata": {
  "kernelspec": {
   "display_name": "Python 3",
   "language": "python",
   "name": "python3"
  },
  "language_info": {
   "codemirror_mode": {
    "name": "ipython",
    "version": 3
   },
   "file_extension": ".py",
   "mimetype": "text/x-python",
   "name": "python",
   "nbconvert_exporter": "python",
   "pygments_lexer": "ipython3",
   "version": "3.7.3"
  }
 },
 "nbformat": 4,
 "nbformat_minor": 2
}
